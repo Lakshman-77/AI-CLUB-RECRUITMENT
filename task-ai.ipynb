{
 "cells": [
  {
   "cell_type": "code",
   "execution_count": 1,
   "id": "ffa443d3",
   "metadata": {
    "execution": {
     "iopub.execute_input": "2024-12-30T12:23:22.642169Z",
     "iopub.status.busy": "2024-12-30T12:23:22.641789Z",
     "iopub.status.idle": "2024-12-30T12:23:26.383997Z",
     "shell.execute_reply": "2024-12-30T12:23:26.383156Z"
    },
    "papermill": {
     "duration": 3.748545,
     "end_time": "2024-12-30T12:23:26.385726",
     "exception": false,
     "start_time": "2024-12-30T12:23:22.637181",
     "status": "completed"
    },
    "tags": []
   },
   "outputs": [],
   "source": [
    "import numpy as np\n",
    "import pandas as pd\n",
    "from matplotlib import pyplot as plt\n",
    "\n",
    "data = pd.read_csv('/kaggle/input/mnist-digit-recognizer/train.csv')"
   ]
  },
  {
   "cell_type": "code",
   "execution_count": 2,
   "id": "ef52867d",
   "metadata": {
    "execution": {
     "iopub.execute_input": "2024-12-30T12:23:26.393098Z",
     "iopub.status.busy": "2024-12-30T12:23:26.392739Z",
     "iopub.status.idle": "2024-12-30T12:23:26.398744Z",
     "shell.execute_reply": "2024-12-30T12:23:26.398002Z"
    },
    "papermill": {
     "duration": 0.011004,
     "end_time": "2024-12-30T12:23:26.400156",
     "exception": false,
     "start_time": "2024-12-30T12:23:26.389152",
     "status": "completed"
    },
    "tags": []
   },
   "outputs": [
    {
     "data": {
      "text/plain": [
       "(42000, 785)"
      ]
     },
     "execution_count": 2,
     "metadata": {},
     "output_type": "execute_result"
    }
   ],
   "source": [
    "data.shape"
   ]
  },
  {
   "cell_type": "code",
   "execution_count": 3,
   "id": "c5c6e8b1",
   "metadata": {
    "execution": {
     "iopub.execute_input": "2024-12-30T12:23:26.407171Z",
     "iopub.status.busy": "2024-12-30T12:23:26.406860Z",
     "iopub.status.idle": "2024-12-30T12:23:26.427325Z",
     "shell.execute_reply": "2024-12-30T12:23:26.426379Z"
    },
    "papermill": {
     "duration": 0.025515,
     "end_time": "2024-12-30T12:23:26.428789",
     "exception": false,
     "start_time": "2024-12-30T12:23:26.403274",
     "status": "completed"
    },
    "tags": []
   },
   "outputs": [
    {
     "data": {
      "text/html": [
       "<div>\n",
       "<style scoped>\n",
       "    .dataframe tbody tr th:only-of-type {\n",
       "        vertical-align: middle;\n",
       "    }\n",
       "\n",
       "    .dataframe tbody tr th {\n",
       "        vertical-align: top;\n",
       "    }\n",
       "\n",
       "    .dataframe thead th {\n",
       "        text-align: right;\n",
       "    }\n",
       "</style>\n",
       "<table border=\"1\" class=\"dataframe\">\n",
       "  <thead>\n",
       "    <tr style=\"text-align: right;\">\n",
       "      <th></th>\n",
       "      <th>label</th>\n",
       "      <th>pixel0</th>\n",
       "      <th>pixel1</th>\n",
       "      <th>pixel2</th>\n",
       "      <th>pixel3</th>\n",
       "      <th>pixel4</th>\n",
       "      <th>pixel5</th>\n",
       "      <th>pixel6</th>\n",
       "      <th>pixel7</th>\n",
       "      <th>pixel8</th>\n",
       "      <th>...</th>\n",
       "      <th>pixel774</th>\n",
       "      <th>pixel775</th>\n",
       "      <th>pixel776</th>\n",
       "      <th>pixel777</th>\n",
       "      <th>pixel778</th>\n",
       "      <th>pixel779</th>\n",
       "      <th>pixel780</th>\n",
       "      <th>pixel781</th>\n",
       "      <th>pixel782</th>\n",
       "      <th>pixel783</th>\n",
       "    </tr>\n",
       "  </thead>\n",
       "  <tbody>\n",
       "    <tr>\n",
       "      <th>0</th>\n",
       "      <td>1</td>\n",
       "      <td>0</td>\n",
       "      <td>0</td>\n",
       "      <td>0</td>\n",
       "      <td>0</td>\n",
       "      <td>0</td>\n",
       "      <td>0</td>\n",
       "      <td>0</td>\n",
       "      <td>0</td>\n",
       "      <td>0</td>\n",
       "      <td>...</td>\n",
       "      <td>0</td>\n",
       "      <td>0</td>\n",
       "      <td>0</td>\n",
       "      <td>0</td>\n",
       "      <td>0</td>\n",
       "      <td>0</td>\n",
       "      <td>0</td>\n",
       "      <td>0</td>\n",
       "      <td>0</td>\n",
       "      <td>0</td>\n",
       "    </tr>\n",
       "    <tr>\n",
       "      <th>1</th>\n",
       "      <td>0</td>\n",
       "      <td>0</td>\n",
       "      <td>0</td>\n",
       "      <td>0</td>\n",
       "      <td>0</td>\n",
       "      <td>0</td>\n",
       "      <td>0</td>\n",
       "      <td>0</td>\n",
       "      <td>0</td>\n",
       "      <td>0</td>\n",
       "      <td>...</td>\n",
       "      <td>0</td>\n",
       "      <td>0</td>\n",
       "      <td>0</td>\n",
       "      <td>0</td>\n",
       "      <td>0</td>\n",
       "      <td>0</td>\n",
       "      <td>0</td>\n",
       "      <td>0</td>\n",
       "      <td>0</td>\n",
       "      <td>0</td>\n",
       "    </tr>\n",
       "    <tr>\n",
       "      <th>2</th>\n",
       "      <td>1</td>\n",
       "      <td>0</td>\n",
       "      <td>0</td>\n",
       "      <td>0</td>\n",
       "      <td>0</td>\n",
       "      <td>0</td>\n",
       "      <td>0</td>\n",
       "      <td>0</td>\n",
       "      <td>0</td>\n",
       "      <td>0</td>\n",
       "      <td>...</td>\n",
       "      <td>0</td>\n",
       "      <td>0</td>\n",
       "      <td>0</td>\n",
       "      <td>0</td>\n",
       "      <td>0</td>\n",
       "      <td>0</td>\n",
       "      <td>0</td>\n",
       "      <td>0</td>\n",
       "      <td>0</td>\n",
       "      <td>0</td>\n",
       "    </tr>\n",
       "    <tr>\n",
       "      <th>3</th>\n",
       "      <td>4</td>\n",
       "      <td>0</td>\n",
       "      <td>0</td>\n",
       "      <td>0</td>\n",
       "      <td>0</td>\n",
       "      <td>0</td>\n",
       "      <td>0</td>\n",
       "      <td>0</td>\n",
       "      <td>0</td>\n",
       "      <td>0</td>\n",
       "      <td>...</td>\n",
       "      <td>0</td>\n",
       "      <td>0</td>\n",
       "      <td>0</td>\n",
       "      <td>0</td>\n",
       "      <td>0</td>\n",
       "      <td>0</td>\n",
       "      <td>0</td>\n",
       "      <td>0</td>\n",
       "      <td>0</td>\n",
       "      <td>0</td>\n",
       "    </tr>\n",
       "    <tr>\n",
       "      <th>4</th>\n",
       "      <td>0</td>\n",
       "      <td>0</td>\n",
       "      <td>0</td>\n",
       "      <td>0</td>\n",
       "      <td>0</td>\n",
       "      <td>0</td>\n",
       "      <td>0</td>\n",
       "      <td>0</td>\n",
       "      <td>0</td>\n",
       "      <td>0</td>\n",
       "      <td>...</td>\n",
       "      <td>0</td>\n",
       "      <td>0</td>\n",
       "      <td>0</td>\n",
       "      <td>0</td>\n",
       "      <td>0</td>\n",
       "      <td>0</td>\n",
       "      <td>0</td>\n",
       "      <td>0</td>\n",
       "      <td>0</td>\n",
       "      <td>0</td>\n",
       "    </tr>\n",
       "  </tbody>\n",
       "</table>\n",
       "<p>5 rows × 785 columns</p>\n",
       "</div>"
      ],
      "text/plain": [
       "   label  pixel0  pixel1  pixel2  pixel3  pixel4  pixel5  pixel6  pixel7  \\\n",
       "0      1       0       0       0       0       0       0       0       0   \n",
       "1      0       0       0       0       0       0       0       0       0   \n",
       "2      1       0       0       0       0       0       0       0       0   \n",
       "3      4       0       0       0       0       0       0       0       0   \n",
       "4      0       0       0       0       0       0       0       0       0   \n",
       "\n",
       "   pixel8  ...  pixel774  pixel775  pixel776  pixel777  pixel778  pixel779  \\\n",
       "0       0  ...         0         0         0         0         0         0   \n",
       "1       0  ...         0         0         0         0         0         0   \n",
       "2       0  ...         0         0         0         0         0         0   \n",
       "3       0  ...         0         0         0         0         0         0   \n",
       "4       0  ...         0         0         0         0         0         0   \n",
       "\n",
       "   pixel780  pixel781  pixel782  pixel783  \n",
       "0         0         0         0         0  \n",
       "1         0         0         0         0  \n",
       "2         0         0         0         0  \n",
       "3         0         0         0         0  \n",
       "4         0         0         0         0  \n",
       "\n",
       "[5 rows x 785 columns]"
      ]
     },
     "execution_count": 3,
     "metadata": {},
     "output_type": "execute_result"
    }
   ],
   "source": [
    "data.head()"
   ]
  },
  {
   "cell_type": "code",
   "execution_count": 4,
   "id": "6d88adc0",
   "metadata": {
    "execution": {
     "iopub.execute_input": "2024-12-30T12:23:26.436586Z",
     "iopub.status.busy": "2024-12-30T12:23:26.436308Z",
     "iopub.status.idle": "2024-12-30T12:23:27.222260Z",
     "shell.execute_reply": "2024-12-30T12:23:27.221381Z"
    },
    "papermill": {
     "duration": 0.791802,
     "end_time": "2024-12-30T12:23:27.224075",
     "exception": false,
     "start_time": "2024-12-30T12:23:26.432273",
     "status": "completed"
    },
    "tags": []
   },
   "outputs": [],
   "source": [
    "data = np.array(data)\n",
    "m, n = data.shape\n",
    "np.random.shuffle(data) # shuffle before splitting into dev and training sets\n",
    "\n",
    "data_dev = data[0:1000].T\n",
    "Y_dev = data_dev[0]\n",
    "X_dev = data_dev[1:n]\n",
    "X_dev = X_dev / 255.\n",
    "\n",
    "data_train = data[1000:m].T\n",
    "Y_train = data_train[0]\n",
    "X_train = data_train[1:n]\n",
    "X_train = X_train / 255.\n",
    "_,m_train = X_train.shape"
   ]
  },
  {
   "cell_type": "code",
   "execution_count": 5,
   "id": "ed02360c",
   "metadata": {
    "execution": {
     "iopub.execute_input": "2024-12-30T12:23:27.231813Z",
     "iopub.status.busy": "2024-12-30T12:23:27.231510Z",
     "iopub.status.idle": "2024-12-30T12:23:27.238520Z",
     "shell.execute_reply": "2024-12-30T12:23:27.237618Z"
    },
    "papermill": {
     "duration": 0.012321,
     "end_time": "2024-12-30T12:23:27.239896",
     "exception": false,
     "start_time": "2024-12-30T12:23:27.227575",
     "status": "completed"
    },
    "tags": []
   },
   "outputs": [
    {
     "data": {
      "text/plain": [
       "array([2, 4, 2, ..., 4, 7, 6])"
      ]
     },
     "execution_count": 5,
     "metadata": {},
     "output_type": "execute_result"
    }
   ],
   "source": [
    "Y_train"
   ]
  },
  {
   "cell_type": "code",
   "execution_count": 6,
   "id": "24df5325",
   "metadata": {
    "execution": {
     "iopub.execute_input": "2024-12-30T12:23:27.247613Z",
     "iopub.status.busy": "2024-12-30T12:23:27.247320Z",
     "iopub.status.idle": "2024-12-30T12:23:27.257057Z",
     "shell.execute_reply": "2024-12-30T12:23:27.256029Z"
    },
    "papermill": {
     "duration": 0.015455,
     "end_time": "2024-12-30T12:23:27.258845",
     "exception": false,
     "start_time": "2024-12-30T12:23:27.243390",
     "status": "completed"
    },
    "tags": []
   },
   "outputs": [],
   "source": [
    "def init_params():\n",
    "    W1 = np.random.rand(10, 784) - 0.5\n",
    "    b1 = np.random.rand(10, 1) - 0.5\n",
    "    W2 = np.random.rand(10, 10) - 0.5\n",
    "    b2 = np.random.rand(10, 1) - 0.5\n",
    "    return W1, b1, W2, b2\n",
    "\n",
    "def ReLU(Z):\n",
    "    return np.maximum(Z, 0)\n",
    "\n",
    "def softmax(Z):\n",
    "    A = np.exp(Z) / sum(np.exp(Z))\n",
    "    return A\n",
    "    \n",
    "def forward_prop(W1, b1, W2, b2, X):\n",
    "    Z1 = W1.dot(X) + b1\n",
    "    A1 = ReLU(Z1)\n",
    "    Z2 = W2.dot(A1) + b2\n",
    "    A2 = softmax(Z2)\n",
    "    return Z1, A1, Z2, A2\n",
    "    \n",
    "def ReLU_deriv(Z):\n",
    "    return Z > 0\n",
    "\n",
    "def one_hot(Y):\n",
    "    one_hot_Y = np.zeros((Y.size, Y.max() + 1))\n",
    "    one_hot_Y[np.arange(Y.size), Y] = 1\n",
    "    one_hot_Y = one_hot_Y.T\n",
    "    return one_hot_Y\n",
    "\n",
    "def backward_prop(Z1, A1, Z2, A2, W1, W2, X, Y):\n",
    "    one_hot_Y = one_hot(Y)\n",
    "    dZ2 = A2 - one_hot_Y\n",
    "    dW2 = 1 / m * dZ2.dot(A1.T)\n",
    "    db2 = 1 / m * np.sum(dZ2)\n",
    "    dZ1 = W2.T.dot(dZ2) * ReLU_deriv(Z1)\n",
    "    dW1 = 1 / m * dZ1.dot(X.T)\n",
    "    db1 = 1 / m * np.sum(dZ1)\n",
    "    return dW1, db1, dW2, db2\n",
    "\n",
    "def update_params(W1, b1, W2, b2, dW1, db1, dW2, db2, alpha):\n",
    "    W1 = W1 - alpha * dW1\n",
    "    b1 = b1 - alpha * db1    \n",
    "    W2 = W2 - alpha * dW2  \n",
    "    b2 = b2 - alpha * db2    \n",
    "    return W1, b1, W2, b2"
   ]
  },
  {
   "cell_type": "code",
   "execution_count": 7,
   "id": "b63ab6fe",
   "metadata": {
    "execution": {
     "iopub.execute_input": "2024-12-30T12:23:27.266796Z",
     "iopub.status.busy": "2024-12-30T12:23:27.266489Z",
     "iopub.status.idle": "2024-12-30T12:23:27.272681Z",
     "shell.execute_reply": "2024-12-30T12:23:27.271809Z"
    },
    "papermill": {
     "duration": 0.011971,
     "end_time": "2024-12-30T12:23:27.274364",
     "exception": false,
     "start_time": "2024-12-30T12:23:27.262393",
     "status": "completed"
    },
    "tags": []
   },
   "outputs": [],
   "source": [
    "def get_predictions(A2):\n",
    "    return np.argmax(A2, 0)\n",
    "\n",
    "def get_accuracy(predictions, Y):\n",
    "    print(predictions, Y)\n",
    "    return np.sum(predictions == Y) / Y.size\n",
    "\n",
    "def gradient_descent(X, Y, alpha, iterations):\n",
    "    W1, b1, W2, b2 = init_params()\n",
    "    for i in range(iterations):\n",
    "        Z1, A1, Z2, A2 = forward_prop(W1, b1, W2, b2, X)\n",
    "        dW1, db1, dW2, db2 = backward_prop(Z1, A1, Z2, A2, W1, W2, X, Y)\n",
    "        W1, b1, W2, b2 = update_params(W1, b1, W2, b2, dW1, db1, dW2, db2, alpha)\n",
    "        if i % 10 == 0:\n",
    "            print(\"Iteration: \", i)\n",
    "            predictions = get_predictions(A2)\n",
    "            print(get_accuracy(predictions, Y))\n",
    "    return W1, b1, W2, b2"
   ]
  },
  {
   "cell_type": "code",
   "execution_count": 8,
   "id": "fdc36e39",
   "metadata": {
    "execution": {
     "iopub.execute_input": "2024-12-30T12:23:27.282342Z",
     "iopub.status.busy": "2024-12-30T12:23:27.281923Z",
     "iopub.status.idle": "2024-12-30T12:24:26.241046Z",
     "shell.execute_reply": "2024-12-30T12:24:26.239619Z"
    },
    "papermill": {
     "duration": 58.966472,
     "end_time": "2024-12-30T12:24:26.244295",
     "exception": false,
     "start_time": "2024-12-30T12:23:27.277823",
     "status": "completed"
    },
    "tags": []
   },
   "outputs": [
    {
     "name": "stdout",
     "output_type": "stream",
     "text": [
      "Iteration:  0\n",
      "[7 8 3 ... 5 8 0] [2 4 2 ... 4 7 6]\n",
      "0.09234146341463415\n",
      "Iteration:  10\n",
      "[7 3 3 ... 2 2 0] [2 4 2 ... 4 7 6]\n",
      "0.18148780487804878\n",
      "Iteration:  20\n",
      "[7 3 9 ... 2 7 0] [2 4 2 ... 4 7 6]\n",
      "0.2426341463414634\n",
      "Iteration:  30\n",
      "[7 9 9 ... 9 7 0] [2 4 2 ... 4 7 6]\n",
      "0.30317073170731706\n",
      "Iteration:  40\n",
      "[7 9 9 ... 9 7 0] [2 4 2 ... 4 7 6]\n",
      "0.3726829268292683\n",
      "Iteration:  50\n",
      "[2 9 9 ... 9 7 6] [2 4 2 ... 4 7 6]\n",
      "0.4443658536585366\n",
      "Iteration:  60\n",
      "[2 9 9 ... 9 7 6] [2 4 2 ... 4 7 6]\n",
      "0.5028048780487805\n",
      "Iteration:  70\n",
      "[2 9 9 ... 9 7 6] [2 4 2 ... 4 7 6]\n",
      "0.5483170731707318\n",
      "Iteration:  80\n",
      "[2 9 9 ... 9 7 6] [2 4 2 ... 4 7 6]\n",
      "0.5841219512195122\n",
      "Iteration:  90\n",
      "[2 9 9 ... 9 7 6] [2 4 2 ... 4 7 6]\n",
      "0.6132439024390244\n",
      "Iteration:  100\n",
      "[2 9 9 ... 9 7 6] [2 4 2 ... 4 7 6]\n",
      "0.6378292682926829\n",
      "Iteration:  110\n",
      "[2 9 9 ... 9 7 6] [2 4 2 ... 4 7 6]\n",
      "0.6593170731707317\n",
      "Iteration:  120\n",
      "[2 9 9 ... 9 7 6] [2 4 2 ... 4 7 6]\n",
      "0.677\n",
      "Iteration:  130\n",
      "[2 9 9 ... 9 7 6] [2 4 2 ... 4 7 6]\n",
      "0.6924634146341463\n",
      "Iteration:  140\n",
      "[2 9 9 ... 9 7 6] [2 4 2 ... 4 7 6]\n",
      "0.7058536585365853\n",
      "Iteration:  150\n",
      "[2 4 9 ... 9 7 6] [2 4 2 ... 4 7 6]\n",
      "0.7171219512195122\n",
      "Iteration:  160\n",
      "[2 4 9 ... 9 7 6] [2 4 2 ... 4 7 6]\n",
      "0.7274146341463414\n",
      "Iteration:  170\n",
      "[2 4 9 ... 9 7 6] [2 4 2 ... 4 7 6]\n",
      "0.7364146341463415\n",
      "Iteration:  180\n",
      "[2 4 9 ... 9 7 6] [2 4 2 ... 4 7 6]\n",
      "0.7448292682926829\n",
      "Iteration:  190\n",
      "[2 4 9 ... 9 7 6] [2 4 2 ... 4 7 6]\n",
      "0.7519756097560976\n",
      "Iteration:  200\n",
      "[2 4 9 ... 9 7 6] [2 4 2 ... 4 7 6]\n",
      "0.7590243902439024\n",
      "Iteration:  210\n",
      "[2 4 9 ... 9 7 6] [2 4 2 ... 4 7 6]\n",
      "0.7647804878048781\n",
      "Iteration:  220\n",
      "[2 4 9 ... 9 7 6] [2 4 2 ... 4 7 6]\n",
      "0.7703414634146342\n",
      "Iteration:  230\n",
      "[2 4 9 ... 9 7 6] [2 4 2 ... 4 7 6]\n",
      "0.7754634146341464\n",
      "Iteration:  240\n",
      "[2 4 9 ... 9 7 6] [2 4 2 ... 4 7 6]\n",
      "0.7797560975609756\n",
      "Iteration:  250\n",
      "[2 4 9 ... 9 7 6] [2 4 2 ... 4 7 6]\n",
      "0.7840487804878049\n",
      "Iteration:  260\n",
      "[2 4 9 ... 9 7 6] [2 4 2 ... 4 7 6]\n",
      "0.7880487804878049\n",
      "Iteration:  270\n",
      "[2 4 9 ... 9 7 6] [2 4 2 ... 4 7 6]\n",
      "0.7919512195121952\n",
      "Iteration:  280\n",
      "[2 4 9 ... 4 7 6] [2 4 2 ... 4 7 6]\n",
      "0.795829268292683\n",
      "Iteration:  290\n",
      "[2 4 9 ... 4 7 6] [2 4 2 ... 4 7 6]\n",
      "0.7993170731707318\n",
      "Iteration:  300\n",
      "[2 4 9 ... 4 7 6] [2 4 2 ... 4 7 6]\n",
      "0.8027073170731708\n",
      "Iteration:  310\n",
      "[2 4 9 ... 4 7 6] [2 4 2 ... 4 7 6]\n",
      "0.8053414634146342\n",
      "Iteration:  320\n",
      "[2 4 9 ... 4 7 6] [2 4 2 ... 4 7 6]\n",
      "0.8076829268292683\n",
      "Iteration:  330\n",
      "[2 4 9 ... 4 7 6] [2 4 2 ... 4 7 6]\n",
      "0.8103658536585366\n",
      "Iteration:  340\n",
      "[2 4 9 ... 4 7 6] [2 4 2 ... 4 7 6]\n",
      "0.8130975609756097\n",
      "Iteration:  350\n",
      "[2 4 9 ... 4 7 6] [2 4 2 ... 4 7 6]\n",
      "0.8156341463414634\n",
      "Iteration:  360\n",
      "[2 4 9 ... 4 7 6] [2 4 2 ... 4 7 6]\n",
      "0.8178536585365853\n",
      "Iteration:  370\n",
      "[2 4 9 ... 4 7 6] [2 4 2 ... 4 7 6]\n",
      "0.8199512195121951\n",
      "Iteration:  380\n",
      "[2 4 9 ... 4 7 6] [2 4 2 ... 4 7 6]\n",
      "0.8223414634146341\n",
      "Iteration:  390\n",
      "[2 4 9 ... 4 7 6] [2 4 2 ... 4 7 6]\n",
      "0.8246829268292682\n",
      "Iteration:  400\n",
      "[2 4 9 ... 4 7 6] [2 4 2 ... 4 7 6]\n",
      "0.8265853658536585\n",
      "Iteration:  410\n",
      "[2 4 9 ... 4 7 6] [2 4 2 ... 4 7 6]\n",
      "0.8290975609756097\n",
      "Iteration:  420\n",
      "[2 4 9 ... 4 7 6] [2 4 2 ... 4 7 6]\n",
      "0.8313170731707317\n",
      "Iteration:  430\n",
      "[2 4 9 ... 4 7 6] [2 4 2 ... 4 7 6]\n",
      "0.8327317073170731\n",
      "Iteration:  440\n",
      "[2 4 9 ... 4 7 6] [2 4 2 ... 4 7 6]\n",
      "0.834170731707317\n",
      "Iteration:  450\n",
      "[2 4 9 ... 4 7 6] [2 4 2 ... 4 7 6]\n",
      "0.8356097560975609\n",
      "Iteration:  460\n",
      "[2 4 9 ... 4 7 6] [2 4 2 ... 4 7 6]\n",
      "0.837390243902439\n",
      "Iteration:  470\n",
      "[2 4 9 ... 4 7 6] [2 4 2 ... 4 7 6]\n",
      "0.838780487804878\n",
      "Iteration:  480\n",
      "[2 4 9 ... 4 7 6] [2 4 2 ... 4 7 6]\n",
      "0.8401219512195122\n",
      "Iteration:  490\n",
      "[2 4 9 ... 4 7 6] [2 4 2 ... 4 7 6]\n",
      "0.8417317073170731\n"
     ]
    }
   ],
   "source": [
    "W1, b1, W2, b2 = gradient_descent(X_train, Y_train, 0.10, 500)"
   ]
  },
  {
   "cell_type": "code",
   "execution_count": 9,
   "id": "0ff6b66c",
   "metadata": {
    "execution": {
     "iopub.execute_input": "2024-12-30T12:24:26.282898Z",
     "iopub.status.busy": "2024-12-30T12:24:26.282320Z",
     "iopub.status.idle": "2024-12-30T12:24:26.295403Z",
     "shell.execute_reply": "2024-12-30T12:24:26.294012Z"
    },
    "papermill": {
     "duration": 0.035478,
     "end_time": "2024-12-30T12:24:26.298256",
     "exception": false,
     "start_time": "2024-12-30T12:24:26.262778",
     "status": "completed"
    },
    "tags": []
   },
   "outputs": [],
   "source": [
    "def make_predictions(X, W1, b1, W2, b2):\n",
    "    _, _, _, A2 = forward_prop(W1, b1, W2, b2, X)\n",
    "    predictions = get_predictions(A2)\n",
    "    return predictions\n",
    "\n",
    "def test_prediction(index, W1, b1, W2, b2):\n",
    "    current_image = X_train[:, index, None]\n",
    "    prediction = make_predictions(X_train[:, index, None], W1, b1, W2, b2)\n",
    "    label = Y_train[index]\n",
    "    print(\"Prediction: \", prediction)\n",
    "    print(\"Label: \", label)\n",
    "    \n",
    "    current_image = current_image.reshape((28, 28)) * 255\n",
    "    plt.gray()\n",
    "    plt.imshow(current_image, interpolation='nearest')\n",
    "    plt.show()"
   ]
  },
  {
   "cell_type": "code",
   "execution_count": 10,
   "id": "2a42efe0",
   "metadata": {
    "execution": {
     "iopub.execute_input": "2024-12-30T12:24:26.335694Z",
     "iopub.status.busy": "2024-12-30T12:24:26.335105Z",
     "iopub.status.idle": "2024-12-30T12:24:27.218431Z",
     "shell.execute_reply": "2024-12-30T12:24:27.217390Z"
    },
    "papermill": {
     "duration": 0.903987,
     "end_time": "2024-12-30T12:24:27.219986",
     "exception": false,
     "start_time": "2024-12-30T12:24:26.315999",
     "status": "completed"
    },
    "tags": []
   },
   "outputs": [
    {
     "name": "stdout",
     "output_type": "stream",
     "text": [
      "Prediction:  [2]\n",
      "Label:  2\n"
     ]
    },
    {
     "data": {
      "image/png": "[encoded data removed]",
      "text/plain": [
       "<Figure size 640x480 with 1 Axes>"
      ]
     },
     "metadata": {},
     "output_type": "display_data"
    },
    {
     "name": "stdout",
     "output_type": "stream",
     "text": [
      "Prediction:  [4]\n",
      "Label:  4\n"
     ]
    },
    {
     "data": {
      "image/png": "[encoded data removed]",
      "text/plain": [
       "<Figure size 640x480 with 1 Axes>"
      ]
     },
     "metadata": {},
     "output_type": "display_data"
    },
    {
     "name": "stdout",
     "output_type": "stream",
     "text": [
      "Prediction:  [9]\n",
      "Label:  2\n"
     ]
    },
    {
     "data": {
      "image/png": "[encoded data removed]",
      "text/plain": [
       "<Figure size 640x480 with 1 Axes>"
      ]
     },
     "metadata": {},
     "output_type": "display_data"
    },
    {
     "name": "stdout",
     "output_type": "stream",
     "text": [
      "Prediction:  [0]\n",
      "Label:  0\n"
     ]
    },
    {
     "data": {
      "image/png": "[encoded data removed]",
      "text/plain": [
       "<Figure size 640x480 with 1 Axes>"
      ]
     },
     "metadata": {},
     "output_type": "display_data"
    }
   ],
   "source": [
    "#Let's look at a couple of examples:\n",
    "test_prediction(0, W1, b1, W2, b2)\n",
    "test_prediction(1, W1, b1, W2, b2)\n",
    "test_prediction(2, W1, b1, W2, b2)\n",
    "test_prediction(3, W1, b1, W2, b2)"
   ]
  },
  {
   "cell_type": "code",
   "execution_count": 11,
   "id": "6b7e3d3d",
   "metadata": {
    "execution": {
     "iopub.execute_input": "2024-12-30T12:24:27.235680Z",
     "iopub.status.busy": "2024-12-30T12:24:27.235313Z",
     "iopub.status.idle": "2024-12-30T12:24:27.253274Z",
     "shell.execute_reply": "2024-12-30T12:24:27.251244Z"
    },
    "papermill": {
     "duration": 0.028819,
     "end_time": "2024-12-30T12:24:27.256295",
     "exception": false,
     "start_time": "2024-12-30T12:24:27.227476",
     "status": "completed"
    },
    "tags": []
   },
   "outputs": [
    {
     "name": "stdout",
     "output_type": "stream",
     "text": [
      "[1 8 7 0 3 1 1 7 2 5 6 7 0 1 0 3 7 1 9 4 1 3 5 8 4 7 0 4 2 5 1 3 4 1 5 9 3\n",
      " 3 7 3 0 0 8 2 3 2 1 0 8 3 4 6 0 0 2 0 2 4 9 3 0 4 2 1 9 7 2 3 0 3 8 6 9 9\n",
      " 7 9 7 9 8 1 3 8 8 9 9 3 0 0 9 6 1 1 7 5 5 4 2 1 1 5 7 4 9 8 7 7 8 3 9 3 5\n",
      " 9 9 0 3 0 1 0 6 9 4 5 4 0 5 6 1 9 7 6 6 9 1 3 3 1 0 5 8 9 8 1 4 8 8 3 3 4\n",
      " 1 5 6 4 2 4 7 1 2 1 8 9 0 3 7 0 9 6 6 2 7 7 6 0 2 2 4 7 8 0 4 2 7 7 4 5 1\n",
      " 7 4 6 3 6 8 0 5 6 8 3 7 8 4 0 8 4 3 2 0 7 6 6 9 6 3 1 7 8 6 8 7 5 2 3 9 3\n",
      " 5 6 6 7 3 6 6 2 6 9 8 7 8 5 5 8 1 5 5 8 5 7 1 5 8 7 7 1 1 5 1 2 4 1 2 3 6\n",
      " 6 5 1 7 8 2 7 6 3 8 1 3 6 2 3 8 2 0 7 8 9 5 4 3 4 7 2 8 8 7 8 7 6 3 4 3 3\n",
      " 2 7 9 7 1 9 8 9 5 6 6 6 8 7 0 9 7 3 2 1 1 0 7 2 8 6 0 1 3 7 4 8 2 1 6 7 5\n",
      " 8 9 5 5 9 9 7 8 8 6 0 7 0 1 4 7 5 1 4 6 3 5 6 1 5 1 4 2 0 0 6 5 6 1 9 3 2\n",
      " 4 6 9 9 7 0 4 1 6 3 3 8 0 3 2 9 0 9 3 5 8 4 9 1 8 3 3 2 2 0 9 6 9 3 6 5 0\n",
      " 7 5 0 1 6 5 5 7 7 3 3 0 0 1 6 5 5 6 8 2 6 3 3 0 1 6 1 1 8 8 3 0 7 0 1 9 6\n",
      " 8 3 5 8 6 0 1 7 9 9 6 1 8 1 3 2 4 8 9 4 7 3 6 6 1 6 6 3 5 4 8 8 5 0 3 6 0\n",
      " 2 3 8 3 0 4 1 3 3 7 2 4 1 0 3 3 1 4 1 1 8 6 0 2 1 1 6 8 9 2 8 0 3 6 7 5 6\n",
      " 2 4 7 9 5 7 4 1 4 7 4 8 0 8 6 6 7 5 5 6 8 3 2 3 0 4 6 6 0 6 5 2 6 7 4 4 7\n",
      " 3 9 9 3 9 9 9 6 7 2 2 8 0 6 6 1 7 0 1 1 7 5 7 6 1 6 8 1 0 9 0 0 4 9 2 7 0\n",
      " 1 0 9 6 7 8 9 2 9 8 9 3 3 7 4 2 1 6 4 4 5 0 2 2 9 1 1 9 3 4 1 3 3 7 4 8 6\n",
      " 6 6 3 4 9 3 4 4 1 4 9 2 2 8 5 9 8 7 8 1 0 9 0 0 7 4 0 0 6 7 7 6 5 3 4 3 2\n",
      " 6 7 3 6 9 7 3 7 8 6 7 2 3 0 8 5 0 7 7 9 5 3 0 7 9 0 0 3 4 0 1 8 6 2 2 9 1\n",
      " 9 1 0 3 5 5 0 2 9 2 6 3 7 5 4 9 0 8 4 8 8 8 5 8 3 9 7 1 4 4 4 5 0 7 8 9 8\n",
      " 0 9 6 7 7 5 1 0 7 5 3 5 7 3 6 8 1 2 7 7 2 8 9 0 7 6 4 2 0 6 7 7 0 9 8 8 3\n",
      " 8 6 1 7 9 7 9 3 4 3 1 9 2 0 9 0 4 2 0 2 0 3 4 0 9 1 6 6 6 0 8 9 0 1 5 5 5\n",
      " 4 7 2 1 4 1 0 9 4 6 7 2 5 0 6 2 4 1 0 7 7 1 1 6 1 3 8 0 0 4 9 3 9 5 1 0 3\n",
      " 5 1 6 3 7 1 2 6 7 3 9 3 4 1 2 0 3 8 8 9 8 3 9 2 9 8 8 0 6 5 6 9 0 5 7 8 0\n",
      " 7 0 9 6 6 6 7 7 1 2 2 1 9 7 0 0 5 5 9 9 8 0 7 3 3 6 2 1 8 9 2 7 5 3 5 5 9\n",
      " 3 1 8 7 3 3 9 2 4 1 5 2 1 8 3 4 6 3 0 2 7 1 0 2 7 9 7 9 9 4 6 4 0 7 8 5 9\n",
      " 7 0 2 3 6 7 2 0 6 7 0 5 1 7 9 2 5 9 1 9 8 3 4 5 7 4 2 0 0 1 7 7 9 6 1 8 7\n",
      " 3] [1 8 7 0 3 1 1 7 2 5 6 7 0 1 0 3 7 1 9 4 1 3 5 8 4 7 0 4 2 5 1 9 4 1 5 9 3\n",
      " 3 7 3 0 0 8 2 3 2 8 0 6 3 6 6 0 0 2 0 2 2 9 3 0 4 2 1 9 7 2 2 0 8 8 6 9 9\n",
      " 7 9 7 9 8 1 3 8 8 3 9 3 0 0 9 6 1 3 7 5 5 4 2 1 1 5 7 9 9 8 7 7 8 3 4 3 5\n",
      " 9 9 0 3 0 1 0 6 9 2 5 4 0 5 6 1 9 7 6 6 9 1 3 3 1 0 5 8 9 2 7 4 9 8 3 3 4\n",
      " 1 0 6 4 2 4 7 1 4 1 5 9 0 3 7 0 9 4 6 2 7 7 6 0 2 2 4 7 8 0 4 2 7 7 4 3 1\n",
      " 7 8 6 3 6 8 0 5 6 8 3 7 8 4 0 8 4 3 2 0 7 6 6 7 6 3 1 3 1 6 8 7 5 2 3 9 3\n",
      " 5 6 5 7 3 5 6 2 6 9 6 7 8 5 8 8 1 5 5 8 5 7 1 5 8 7 7 5 1 8 8 2 4 1 2 3 6\n",
      " 8 5 1 7 8 2 9 6 3 8 1 3 6 2 3 2 2 0 7 8 8 5 4 3 4 7 3 8 8 7 8 7 6 3 4 3 3\n",
      " 2 7 9 3 1 3 3 9 5 6 6 6 5 7 0 9 7 3 2 1 1 0 7 2 8 6 0 1 3 7 4 5 2 1 0 7 5\n",
      " 8 9 5 3 8 9 7 8 8 6 0 7 0 1 9 7 5 1 4 6 3 5 6 1 5 1 4 2 0 0 6 5 6 1 9 3 2\n",
      " 4 6 9 9 7 0 9 1 6 3 3 8 0 8 7 9 0 9 3 3 8 4 9 1 8 3 2 2 2 0 9 6 9 3 6 8 0\n",
      " 7 5 0 1 6 8 5 3 7 3 3 0 0 1 6 5 5 6 8 2 6 3 3 0 1 6 1 1 8 8 3 0 7 0 1 9 6\n",
      " 8 3 5 8 5 0 1 7 9 3 5 1 8 1 3 2 4 2 9 9 7 3 3 2 1 6 6 3 3 4 8 9 5 0 8 6 0\n",
      " 2 8 5 2 0 4 1 3 3 7 2 9 1 0 3 3 1 4 1 1 4 6 0 2 1 1 6 8 9 2 8 0 3 5 2 8 6\n",
      " 2 4 7 4 5 7 4 1 4 7 4 8 5 8 6 6 7 4 5 6 8 3 2 3 0 9 4 5 0 6 5 2 6 7 8 4 7\n",
      " 3 9 2 3 9 9 9 6 7 2 2 8 0 6 6 1 7 0 1 1 7 3 7 6 1 6 8 1 0 7 0 0 4 7 2 7 0\n",
      " 1 0 4 6 7 8 9 2 9 3 9 8 3 7 4 2 1 6 4 9 5 0 4 2 9 1 1 9 3 4 1 3 3 7 8 4 6\n",
      " 6 6 3 5 9 3 4 4 1 4 9 2 2 3 5 4 8 7 8 1 0 9 0 0 7 2 0 0 6 7 7 6 5 3 4 3 2\n",
      " 6 7 2 6 9 7 3 7 8 6 9 2 3 0 8 5 0 7 7 9 5 8 0 7 9 0 7 3 4 0 1 3 6 2 2 9 1\n",
      " 9 1 0 3 5 5 0 2 9 2 6 3 7 5 4 7 4 8 4 8 8 8 5 8 3 9 7 1 4 4 9 8 0 7 8 9 8\n",
      " 0 1 6 9 2 5 1 0 7 8 5 3 7 3 6 8 1 2 7 7 2 9 9 0 7 6 4 2 0 6 7 7 0 8 5 8 3\n",
      " 8 8 1 7 9 7 4 3 4 3 1 9 2 0 9 0 4 2 7 2 0 3 4 0 9 1 6 8 6 0 8 9 0 1 3 5 5\n",
      " 4 7 2 1 4 1 0 4 9 6 7 2 5 0 6 2 4 1 0 7 3 1 1 6 1 3 8 0 0 4 9 3 9 5 1 0 3\n",
      " 5 1 6 3 7 1 2 6 7 3 9 3 4 1 2 0 3 0 8 9 8 3 4 2 4 8 8 0 6 5 2 9 0 5 7 7 0\n",
      " 7 0 2 6 6 5 7 7 2 2 3 1 9 7 0 0 0 5 9 9 8 0 7 3 3 6 2 1 8 9 3 7 3 5 8 5 9\n",
      " 3 4 8 3 3 3 9 3 4 1 7 2 1 8 3 4 6 3 5 2 7 1 0 2 7 9 7 9 9 4 6 4 0 7 8 5 8\n",
      " 7 0 2 3 6 7 2 5 2 7 0 3 1 7 7 2 5 9 1 9 8 3 4 5 7 5 2 0 0 1 7 7 9 6 1 6 7\n",
      " 3]\n"
     ]
    },
    {
     "data": {
      "text/plain": [
       "0.855"
      ]
     },
     "execution_count": 11,
     "metadata": {},
     "output_type": "execute_result"
    }
   ],
   "source": [
    "dev_predictions = make_predictions(X_dev, W1, b1, W2, b2)\n",
    "get_accuracy(dev_predictions, Y_dev)"
   ]
  }
 ],
 "metadata": {
  "kaggle": {
   "accelerator": "none",
   "dataSources": [
    {
     "datasetId": 6397512,
     "sourceId": 10332235,
     "sourceType": "datasetVersion"
    }
   ],
   "dockerImageVersionId": 30822,
   "isGpuEnabled": false,
   "isInternetEnabled": false,
   "language": "python",
   "sourceType": "notebook"
  },
  "kernelspec": {
   "display_name": "Python 3",
   "language": "python",
   "name": "python3"
  },
  "language_info": {
   "codemirror_mode": {
    "name": "ipython",
    "version": 3
   },
   "file_extension": ".py",
   "mimetype": "text/x-python",
   "name": "python",
   "nbconvert_exporter": "python",
   "pygments_lexer": "ipython3",
   "version": "3.10.12"
  },
  "papermill": {
   "default_parameters": {},
   "duration": 67.293842,
   "end_time": "2024-12-30T12:24:27.800355",
   "environment_variables": {},
   "exception": null,
   "input_path": "__notebook__.ipynb",
   "output_path": "__notebook__.ipynb",
   "parameters": {},
   "start_time": "2024-12-30T12:23:20.506513",
   "version": "2.6.0"
  }
 },
 "nbformat": 4,
 "nbformat_minor": 5
}
